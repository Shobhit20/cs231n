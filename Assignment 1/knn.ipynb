{
 "cells": [
  {
   "cell_type": "code",
   "execution_count": 2,
   "metadata": {
    "scrolled": true
   },
   "outputs": [
    {
     "name": "stdout",
     "output_type": "stream",
     "text": [
      "Training data shape:  (50000, 32, 32, 3)\n",
      "Training labels shape:  (50000,)\n",
      "Test data shape:  (10000, 32, 32, 3)\n",
      "Test labels shape:  (10000,)\n"
     ]
    }
   ],
   "source": [
    "\n",
    "import random\n",
    "import numpy as np\n",
    "from data_utils import load_CIFAR10\n",
    "import matplotlib.pyplot as plt\n",
    "\n",
    "from __future__ import print_function\n",
    "\n",
    "cifar10_dir = 'datasets/cifar-10-batches-py'\n",
    "X_train, y_train, X_test, y_test = load_CIFAR10(cifar10_dir)\n",
    "\n",
    "print('Training data shape: ', X_train.shape)\n",
    "print('Training labels shape: ', y_train.shape)\n",
    "print('Test data shape: ', X_test.shape)\n",
    "print('Test labels shape: ', y_test.shape)"
   ]
  },
  {
   "cell_type": "code",
   "execution_count": 3,
   "metadata": {},
   "outputs": [],
   "source": [
    "X_train = X_train.reshape(X_train.shape[0], 32 * 32 * 3) \n",
    "X_test = X_test.reshape(X_test.shape[0], 32 * 32 * 3) \n",
    "X_train = X_train[:5000]\n",
    "X_test = X_test[:1000]\n",
    "y_train = y_train[:5000]\n",
    "y_test = y_test[:1000]"
   ]
  },
  {
   "cell_type": "code",
   "execution_count": 4,
   "metadata": {},
   "outputs": [
    {
     "name": "stdout",
     "output_type": "stream",
     "text": [
      "(5000, 3072)\n",
      "(1000, 3072)\n"
     ]
    }
   ],
   "source": [
    "print (X_train.shape)\n",
    "print (X_test.shape)"
   ]
  },
  {
   "cell_type": "code",
   "execution_count": 7,
   "metadata": {
    "collapsed": true
   },
   "outputs": [],
   "source": [
    "def Nearest_Neighbours_l1(Xtr, Xte, ytr,k=1):\n",
    "    num_test = Xte.shape[0]\n",
    "    Ypred = np.zeros(num_test, dtype = ytr.dtype)\n",
    "\n",
    "    \n",
    "    for i in range(num_test):\n",
    "      distances = np.sum(np.abs(Xtr - Xte[i,:]), axis = 1)\n",
    "      min_index = np.argmin(distances) \n",
    "      Ypred[i] = ytr[min_index]\n",
    "\n",
    "    return Ypred, distances\n"
   ]
  },
  {
   "cell_type": "code",
   "execution_count": 8,
   "metadata": {
    "collapsed": true
   },
   "outputs": [],
   "source": [
    "def Nearest_Neighbours_l2(Xtr, Xte, ytr,k=1):\n",
    "    num_test = Xte.shape[0]\n",
    "    Ypred = np.zeros(num_test, dtype = ytr.dtype)\n",
    "\n",
    "\n",
    "    for i in range(num_test):\n",
    "      distances = np.sqrt(np.sum(np.square(Xtr - Xte[i,:]), axis = 1))\n",
    "      min_index = np.argmin(distances) \n",
    "      Ypred[i] = ytr[min_index] \n",
    "\n",
    "    return Ypred, distances\n"
   ]
  },
  {
   "cell_type": "code",
   "execution_count": null,
   "metadata": {
    "collapsed": true
   },
   "outputs": [],
   "source": [
    "y_pred_l1, dists = Nearest_Neighbours_l1(X_train, X_test, y_train)"
   ]
  },
  {
   "cell_type": "code",
   "execution_count": null,
   "metadata": {
    "collapsed": true
   },
   "outputs": [],
   "source": [
    "y_pred_l2, dists = Nearest_Neighbours_l2(X_train, X_test, y_train)"
   ]
  },
  {
   "cell_type": "code",
   "execution_count": null,
   "metadata": {
    "collapsed": true
   },
   "outputs": [],
   "source": [
    "num_correct_l1 = np.sum(y_pred_l1 == y_test)"
   ]
  },
  {
   "cell_type": "code",
   "execution_count": null,
   "metadata": {
    "collapsed": true
   },
   "outputs": [],
   "source": [
    "num_correct_l2 = np.sum(y_pred_l2 == y_test)"
   ]
  },
  {
   "cell_type": "code",
   "execution_count": null,
   "metadata": {
    "collapsed": true
   },
   "outputs": [],
   "source": [
    "print (\"The accuracy of nearest neighbour with l1 distance is\",float(num_correct_l1)*100/y_test.shape[0],\"%\")"
   ]
  },
  {
   "cell_type": "code",
   "execution_count": null,
   "metadata": {
    "collapsed": true
   },
   "outputs": [],
   "source": [
    "print (\"The accuracy of nearest neighbour with l2 distance is\",float(num_correct_l2)*100/y_test.shape[0],\"%\")"
   ]
  },
  {
   "cell_type": "code",
   "execution_count": null,
   "metadata": {
    "collapsed": true
   },
   "outputs": [],
   "source": []
  },
  {
   "cell_type": "code",
   "execution_count": null,
   "metadata": {
    "collapsed": true
   },
   "outputs": [],
   "source": [
    "num_folds = 5\n",
    "k_choices = [1, 3, 5, 8, 10, 12, 15, 20]\n",
    "\n",
    "X_train_folds = []\n",
    "y_train_folds = []\n",
    "\n",
    "X_train_folds = np.array(np.array_split(X_train, num_folds))\n",
    "y_train_folds = np.array(np.array_split(y_train, num_folds))"
   ]
  },
  {
   "cell_type": "code",
   "execution_count": null,
   "metadata": {
    "collapsed": true
   },
   "outputs": [],
   "source": [
    "print (X_train)"
   ]
  },
  {
   "cell_type": "code",
   "execution_count": null,
   "metadata": {
    "collapsed": true
   },
   "outputs": [],
   "source": [
    "print(X_train.shape)"
   ]
  },
  {
   "cell_type": "code",
   "execution_count": null,
   "metadata": {
    "collapsed": true
   },
   "outputs": [],
   "source": [
    "print(X_train_folds)"
   ]
  },
  {
   "cell_type": "code",
   "execution_count": null,
   "metadata": {
    "collapsed": true
   },
   "outputs": [],
   "source": [
    "print (X_train_folds.shape)"
   ]
  },
  {
   "cell_type": "code",
   "execution_count": null,
   "metadata": {
    "collapsed": true
   },
   "outputs": [],
   "source": [
    "def Nearest_Neighbours_l1_cv(Xtr, Xte, ytr,k):\n",
    "    num_test = Xte.shape[0]\n",
    "    \n",
    "    predicted_val=[]\n",
    "    for i in range(num_test):\n",
    "     \n",
    "      Ypred=[]\n",
    "      distances = np.sqrt(np.sum(np.square(Xtr - Xte[i,:]), axis = 1)).tolist()\n",
    "      arr=(np.sort(distances)[:k])\n",
    "      for j in range(k):\n",
    "        Ypred.append(ytr[distances.index(arr[j])])\n",
    "      predicted_val.append(np.argmax(np.bincount(Ypred)))\n",
    "    return predicted_val\n",
    "\n"
   ]
  },
  {
   "cell_type": "code",
   "execution_count": null,
   "metadata": {
    "collapsed": true
   },
   "outputs": [],
   "source": [
    "k_to_accuracies = {}\n",
    "\n",
    "for k in k_choices:\n",
    "    for n in xrange(num_folds):\n",
    "        combinat = [x for x in xrange(num_folds) if x != n] \n",
    "        x_training_dat = np.concatenate(X_train_folds[combinat])\n",
    "        y_training_dat = np.concatenate(y_train_folds[combinat])\n",
    "        predicted_val = Nearest_Neighbours_l1_cv(x_training_dat, X_train_folds[n], y_training_dat,k)\n",
    "        num_correct = np.sum(predicted_val == y_train_folds[n])\n",
    "        accuracy = float(num_correct) / y_train_folds.shape[0]\n",
    "        k_to_accuracies.setdefault(k, []).append(accuracy)\n",
    "\n"
   ]
  },
  {
   "cell_type": "code",
   "execution_count": null,
   "metadata": {
    "collapsed": true
   },
   "outputs": [],
   "source": [
    "for k in k_choices:\n",
    "  accuracies = k_to_accuracies[k]\n",
    "  plt.scatter([k] * len(accuracies), accuracies)\n",
    "    \n",
    "accuracies_mean = np.array([np.mean(v) for k,v in sorted(k_to_accuracies.items())])\n",
    "accuracies_std = np.array([np.std(v) for k,v in sorted(k_to_accuracies.items())])\n",
    "plt.errorbar(k_choices, accuracies_mean, yerr=accuracies_std)\n",
    "plt.title('Cross-validation on k')\n",
    "plt.xlabel('k')\n",
    "plt.ylabel('Cross-validation accuracy')\n",
    "plt.show()\n"
   ]
  },
  {
   "cell_type": "code",
   "execution_count": null,
   "metadata": {
    "collapsed": true
   },
   "outputs": [],
   "source": []
  }
 ],
 "metadata": {
  "kernelspec": {
   "display_name": "Python 2",
   "language": "python",
   "name": "python2"
  },
  "language_info": {
   "codemirror_mode": {
    "name": "ipython",
    "version": 2
   },
   "file_extension": ".py",
   "mimetype": "text/x-python",
   "name": "python",
   "nbconvert_exporter": "python",
   "pygments_lexer": "ipython2",
   "version": "2.7.12"
  }
 },
 "nbformat": 4,
 "nbformat_minor": 2
}
